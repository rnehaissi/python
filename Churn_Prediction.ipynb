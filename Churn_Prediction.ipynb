{
  "nbformat": 4,
  "nbformat_minor": 0,
  "metadata": {
    "colab": {
      "provenance": [],
      "authorship_tag": "ABX9TyOetA9vkc6CI/0YfIxBH9U1",
      "include_colab_link": true
    },
    "kernelspec": {
      "name": "python3",
      "display_name": "Python 3"
    },
    "language_info": {
      "name": "python"
    }
  },
  "cells": [
    {
      "cell_type": "markdown",
      "metadata": {
        "id": "view-in-github",
        "colab_type": "text"
      },
      "source": [
        "<a href=\"https://colab.research.google.com/github/rnehaissi/python/blob/main/Churn_Prediction.ipynb\" target=\"_parent\"><img src=\"https://colab.research.google.com/assets/colab-badge.svg\" alt=\"Open In Colab\"/></a>"
      ]
    },
    {
      "cell_type": "code",
      "execution_count": null,
      "metadata": {
        "colab": {
          "base_uri": "https://localhost:8080/"
        },
        "id": "QnR6wtdqVf4t",
        "outputId": "f1bf0b9f-2958-4758-d6dc-e9aa8ae562fa"
      },
      "outputs": [
        {
          "output_type": "stream",
          "name": "stdout",
          "text": [
            "      customerID  gender  SeniorCitizen Partner Dependents  tenure  \\\n",
            "0     7590-VHVEG  Female              0     Yes         No       1   \n",
            "1     5575-GNVDE    Male              0      No         No      34   \n",
            "2     3668-QPYBK    Male              0      No         No       2   \n",
            "3     7795-CFOCW    Male              0      No         No      45   \n",
            "4     9237-HQITU  Female              0      No         No       2   \n",
            "...          ...     ...            ...     ...        ...     ...   \n",
            "7038  6840-RESVB    Male              0     Yes        Yes      24   \n",
            "7039  2234-XADUH  Female              0     Yes        Yes      72   \n",
            "7040  4801-JZAZL  Female              0     Yes        Yes      11   \n",
            "7041  8361-LTMKD    Male              1     Yes         No       4   \n",
            "7042  3186-AJIEK    Male              0      No         No      66   \n",
            "\n",
            "     PhoneService     MultipleLines InternetService OnlineSecurity  ...  \\\n",
            "0              No  No phone service             DSL             No  ...   \n",
            "1             Yes                No             DSL            Yes  ...   \n",
            "2             Yes                No             DSL            Yes  ...   \n",
            "3              No  No phone service             DSL            Yes  ...   \n",
            "4             Yes                No     Fiber optic             No  ...   \n",
            "...           ...               ...             ...            ...  ...   \n",
            "7038          Yes               Yes             DSL            Yes  ...   \n",
            "7039          Yes               Yes     Fiber optic             No  ...   \n",
            "7040           No  No phone service             DSL            Yes  ...   \n",
            "7041          Yes               Yes     Fiber optic             No  ...   \n",
            "7042          Yes                No     Fiber optic            Yes  ...   \n",
            "\n",
            "     DeviceProtection TechSupport StreamingTV StreamingMovies        Contract  \\\n",
            "0                  No          No          No              No  Month-to-month   \n",
            "1                 Yes          No          No              No        One year   \n",
            "2                  No          No          No              No  Month-to-month   \n",
            "3                 Yes         Yes          No              No        One year   \n",
            "4                  No          No          No              No  Month-to-month   \n",
            "...               ...         ...         ...             ...             ...   \n",
            "7038              Yes         Yes         Yes             Yes        One year   \n",
            "7039              Yes          No         Yes             Yes        One year   \n",
            "7040               No          No          No              No  Month-to-month   \n",
            "7041               No          No          No              No  Month-to-month   \n",
            "7042              Yes         Yes         Yes             Yes        Two year   \n",
            "\n",
            "     PaperlessBilling              PaymentMethod MonthlyCharges  TotalCharges  \\\n",
            "0                 Yes           Electronic check          29.85         29.85   \n",
            "1                  No               Mailed check          56.95        1889.5   \n",
            "2                 Yes               Mailed check          53.85        108.15   \n",
            "3                  No  Bank transfer (automatic)          42.30       1840.75   \n",
            "4                 Yes           Electronic check          70.70        151.65   \n",
            "...               ...                        ...            ...           ...   \n",
            "7038              Yes               Mailed check          84.80        1990.5   \n",
            "7039              Yes    Credit card (automatic)         103.20        7362.9   \n",
            "7040              Yes           Electronic check          29.60        346.45   \n",
            "7041              Yes               Mailed check          74.40         306.6   \n",
            "7042              Yes  Bank transfer (automatic)         105.65        6844.5   \n",
            "\n",
            "     Churn  \n",
            "0       No  \n",
            "1       No  \n",
            "2      Yes  \n",
            "3       No  \n",
            "4      Yes  \n",
            "...    ...  \n",
            "7038    No  \n",
            "7039    No  \n",
            "7040    No  \n",
            "7041   Yes  \n",
            "7042    No  \n",
            "\n",
            "[7043 rows x 21 columns]\n"
          ]
        }
      ],
      "source": [
        "import pandas as pd\n",
        "url = 'https://raw.githubusercontent.com/rnehaissi/python/main/WA_Fn-UseC_-Telco-Customer-Churn.csv'\n",
        "data = pd.read_csv(url)\n",
        "print(data)"
      ]
    },
    {
      "cell_type": "code",
      "source": [
        "data.info()"
      ],
      "metadata": {
        "id": "VNE4lk9xzrRS",
        "outputId": "c00f7cf0-b425-405d-fd1d-89bd407f3d75",
        "colab": {
          "base_uri": "https://localhost:8080/"
        }
      },
      "execution_count": null,
      "outputs": [
        {
          "output_type": "stream",
          "name": "stdout",
          "text": [
            "<class 'pandas.core.frame.DataFrame'>\n",
            "RangeIndex: 7043 entries, 0 to 7042\n",
            "Data columns (total 21 columns):\n",
            " #   Column            Non-Null Count  Dtype  \n",
            "---  ------            --------------  -----  \n",
            " 0   customerID        7043 non-null   object \n",
            " 1   gender            7043 non-null   object \n",
            " 2   SeniorCitizen     7043 non-null   int64  \n",
            " 3   Partner           7043 non-null   object \n",
            " 4   Dependents        7043 non-null   object \n",
            " 5   tenure            7043 non-null   int64  \n",
            " 6   PhoneService      7043 non-null   object \n",
            " 7   MultipleLines     7043 non-null   object \n",
            " 8   InternetService   7043 non-null   object \n",
            " 9   OnlineSecurity    7043 non-null   object \n",
            " 10  OnlineBackup      7043 non-null   object \n",
            " 11  DeviceProtection  7043 non-null   object \n",
            " 12  TechSupport       7043 non-null   object \n",
            " 13  StreamingTV       7043 non-null   object \n",
            " 14  StreamingMovies   7043 non-null   object \n",
            " 15  Contract          7043 non-null   object \n",
            " 16  PaperlessBilling  7043 non-null   object \n",
            " 17  PaymentMethod     7043 non-null   object \n",
            " 18  MonthlyCharges    7043 non-null   float64\n",
            " 19  TotalCharges      7043 non-null   object \n",
            " 20  Churn             7043 non-null   object \n",
            "dtypes: float64(1), int64(2), object(18)\n",
            "memory usage: 1.1+ MB\n"
          ]
        }
      ]
    }
  ]
}